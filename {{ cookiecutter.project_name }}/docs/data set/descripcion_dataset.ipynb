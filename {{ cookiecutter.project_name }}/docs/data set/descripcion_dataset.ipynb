{
 "cells": [
  {
   "cell_type": "markdown",
   "metadata": {},
   "source": [
    "## Descripción del Dataset\n",
    "\n",
    "Titulo: Causas de mortalidad en TDF \n",
    "\n",
    "Origen: Instituto Provincial de Analisis e Investigacion Estadistica y Censos (IPIEC)\n",
    "\n",
    "\n",
    "Descripción:El dataset contiene información sobre las causas de muerte de los habitantes de tierra del fuego diferenciada por genero y años.\n",
    "\n",
    "##Estructura:\n",
    "\n",
    "Fecha con informacion del data set: desde el 2005 hasta el 2022\n",
    "Provincia: Tierra del fuego\n",
    "Sexo: Femenino- Masculino\n",
    "\n",
    "Causa de muerte: \n",
    "1. Enfermedades del sistema circulatorio\n",
    "2. Tumores Malignos\n",
    "3. Enfermedades del sistema respiratorio\n",
    "4. Causas Externas \n",
    "4. Enfermedades infecciosas y parasitarias\n",
    "5. Diabetes Mellitus\n",
    "6. Originadas en el periodo perinatal\n",
    "7. Restos de causas \n",
    "\n",
    "Edades: \n",
    "1. Todas las edades\n",
    "2. De 5 a 14 años\n",
    "3. De 15 a 44 años\n",
    "4. De 45 a 64 años\n",
    "5. De 65 años en adelante \n",
    "\n",
    "\n",
    "Origen: Los datos fueron descargados del sitio web del https://ipiec.tierradelfuego.gob.ar/\n",
    "mas precisamente dentro de la opcion: https://ipiec.tierradelfuego.gob.ar/estadisticas-sociales-y-demograficas/"
   ]
  }
 ],
 "metadata": {
  "language_info": {
   "name": "python"
  }
 },
 "nbformat": 4,
 "nbformat_minor": 2
}
