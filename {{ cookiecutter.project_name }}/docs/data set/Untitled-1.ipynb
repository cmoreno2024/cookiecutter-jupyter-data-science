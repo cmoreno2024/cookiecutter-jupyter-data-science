{
 "cells": [
  {
   "cell_type": "markdown",
   "metadata": {},
   "source": [
    "# Mi Dataset de Excel\n",
    "\n",
    "Este repositorio contiene un dataset sobre las causas de mortalidad de la provincia de tierra de fuego\n",
    "\n",
    "\n",
    "El archivo Excel completo se encuentra en Google Drive: [https://docs.google.com/spreadsheets/d/1_0fxh52esoshvHiiQNIOWE4OWg_kty3s/edit?usp=drive_link&ouid=117246888138111763337&rtpof=true&sd=true]\n",
    "\n"
   ]
  },
  {
   "cell_type": "markdown",
   "metadata": {},
   "source": []
  }
 ],
 "metadata": {
  "language_info": {
   "name": "python"
  }
 },
 "nbformat": 4,
 "nbformat_minor": 2
}
